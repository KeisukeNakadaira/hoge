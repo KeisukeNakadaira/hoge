{
  "nbformat": 4,
  "nbformat_minor": 0,
  "metadata": {
    "anaconda-cloud": {},
    "kernelspec": {
      "display_name": "Python [Root]",
      "language": "python",
      "name": "Python [Root]"
    },
    "language_info": {
      "codemirror_mode": {
        "name": "ipython",
        "version": 3
      },
      "file_extension": ".py",
      "mimetype": "text/x-python",
      "name": "python",
      "nbconvert_exporter": "python",
      "pygments_lexer": "ipython3",
      "version": "3.5.2"
    },
    "colab": {
      "name": "第1回課題.ipynb",
      "provenance": []
    }
  },
  "cells": [
    {
      "cell_type": "markdown",
      "metadata": {
        "id": "_HiBXw5YWT4Q"
      },
      "source": [
        "# 第1回課題\n",
        "for文（enumerate, zip），dictの利用"
      ]
    },
    {
      "cell_type": "markdown",
      "metadata": {
        "id": "KAzNS-QoWT4W"
      },
      "source": [
        "## for文（enumerate, zip）\n",
        "for文を用いた統計値の導出"
      ]
    },
    {
      "cell_type": "markdown",
      "metadata": {
        "id": "SQ8SDDcEWT4X"
      },
      "source": [
        "### 課題1\n",
        "以下の行列 M について，各行の平均値を計算した上で，平均値を降順に出力せよ．\n",
        "```[python]\n",
        "M = [[50, 50, 80, 70, 90],\n",
        "     [50, 70, 60, 90, 100],\n",
        "     [90, 80, 90, 90, 80],\n",
        "     [0, 40, 60, 20, 70],\n",
        "     [60, 80, 90, 80, 90]\n",
        "    ]\n",
        "```\n",
        "出力：  \n",
        "    1位: 86.0  \n",
        "    2位: 80.0  \n",
        "    3位: 74.0  \n",
        "    4位: 68.0  \n",
        "    5位: 38.0  \n",
        " \n",
        "\n",
        "なお，本課題は標準ライブラリのみを利用し実現すること．"
      ]
    },
    {
      "cell_type": "code",
      "metadata": {
        "collapsed": true,
        "colab": {
          "base_uri": "https://localhost:8080/"
        },
        "id": "saa1ubBOWT4Z",
        "outputId": "2f02c5f9-6989-473c-c8f1-15c551a6973f"
      },
      "source": [
        "M = [[50, 50, 80, 70, 90],\n",
        "     [50, 70, 60, 90, 100],\n",
        "     [90, 80, 90, 90, 80],\n",
        "     [0, 40, 60, 20, 70],\n",
        "     [60, 80, 90, 80, 90]\n",
        "    ]\n",
        "a=[0,0,0,0,0]\n",
        "n=0\n",
        "c=0\n",
        "for i in M:\n",
        "  for j in i:\n",
        "    a[n]+=j\n",
        "    c+=1\n",
        "  a[n]=a[n]/c\n",
        "  c=0\n",
        "  n+=1\n",
        "a.sort(reverse=True)\n",
        "for i in range(5):\n",
        "  print(str(i+1)+\"位:\"+str(a[i]))"
      ],
      "execution_count": 7,
      "outputs": [
        {
          "output_type": "stream",
          "text": [
            "1位:86.0\n",
            "2位:80.0\n",
            "3位:74.0\n",
            "4位:68.0\n",
            "5位:38.0\n"
          ],
          "name": "stdout"
        }
      ]
    },
    {
      "cell_type": "markdown",
      "metadata": {
        "id": "9t5KtdOkWT4Z"
      },
      "source": [
        "### 課題2\n",
        "以下の2つのデータに対し，共分散を導出せよ．  \n",
        "なお，少なくとも1度 zip を利用すること  \n",
        "\n",
        "\n",
        "```[python]\n",
        "d1 = [50, 50, 80, 70, 90]   # データ1\n",
        "d2 = [50, 70, 60, 90, 100]  # データ2\n",
        "```\n",
        "出力：  \n",
        "$188.0$  \n",
        "\n",
        "ここで，サンプル集合 $X=\\{x_i\\}_{1 \\le i \\le N}$，$Y=\\{y_i\\}_{1 \\le i \\le N}$ に対する 共分散 は下式により与えられるものとする．  \n",
        "なお，$N$はサンプル数を表す．\n",
        "\n",
        "$$\n",
        "    \\begin{align}\n",
        "        Cov(X,Y)&=\\frac{1}{N}\\left(\\sum_{i=1}^Nx_iy_i\\right)-\\left(\\frac{1}{N}\\sum_{i=1}^N x_i\\right)\\left(\\frac{1}{N}\\sum_{i=1}^N y_i\\right)\n",
        "    \\end{align}\n",
        "$$  \n",
        "\n",
        "なお，本課題は標準ライブラリのみを利用し実現すること．"
      ]
    },
    {
      "cell_type": "code",
      "metadata": {
        "collapsed": true,
        "colab": {
          "base_uri": "https://localhost:8080/"
        },
        "id": "lIpLdr4RWT4a",
        "outputId": "217f494c-64f8-4d9d-d3a3-58b95f0a9001"
      },
      "source": [
        "d1=[50, 50, 80, 70, 90]\n",
        "d2=[50, 70, 60, 90, 100]\n",
        "a=0\n",
        "b=0\n",
        "c=0\n",
        "for i,j in zip(d1,d2):\n",
        "  a+=i*j\n",
        "  b+=i\n",
        "  c+=j\n",
        "Cov=a/5-(b/5)*(c/5)\n",
        "Cov"
      ],
      "execution_count": 8,
      "outputs": [
        {
          "output_type": "execute_result",
          "data": {
            "text/plain": [
              "188.0"
            ]
          },
          "metadata": {
            "tags": []
          },
          "execution_count": 8
        }
      ]
    },
    {
      "cell_type": "markdown",
      "metadata": {
        "id": "X1bPHpHhWT4a"
      },
      "source": [
        "## dictの利用\n"
      ]
    },
    {
      "cell_type": "markdown",
      "metadata": {
        "id": "mtfQZ60uWT4d"
      },
      "source": [
        "### 課題3\n",
        "ある学校に所属する学生数が保存されたdictionary d_student が以下のように与えられているとする．  \n",
        "この時，博士（D），修士（M）学部（B）の合計人数をそれぞれ出力せよ\n",
        "```[python]\n",
        "d_student = {\"B4\": 86, \"D3\": 1, \"B3\": 91, \"D2\": 0, \"M2\": 17, \"B2\": 102, \"D1\": 1, \"M1\": 21, \"B1\": 110}\n",
        "```\n",
        "出力：  \n",
        "D: 2人  \n",
        "M: 38人  \n",
        "B: 389人  \n",
        "\n",
        "なお，本課題は標準ライブラリのみを利用し実現すること．"
      ]
    },
    {
      "cell_type": "code",
      "metadata": {
        "collapsed": true,
        "colab": {
          "base_uri": "https://localhost:8080/"
        },
        "id": "9TdBzbN4WT4e",
        "outputId": "30cdd606-5c09-4520-e12f-724617b696ce"
      },
      "source": [
        "d_student={\"B4\": 86, \"D3\": 1, \"B3\": 91, \"D2\": 0, \"M2\": 17, \"B2\": 102, \"D1\": 1, \"M1\": 21, \"B1\": 110}\n",
        "d=0\n",
        "m=0\n",
        "b=0\n",
        "for i in d_student:\n",
        "  if ('B' in i):\n",
        "    b+=d_student.get(i)\n",
        "  elif('D' in i):\n",
        "    d+=d_student.get(i)\n",
        "  elif('M' in i):\n",
        "    m+=d_student.get(i)\n",
        "print(\"D:\"+str(d)+\"人\")\n",
        "print(\"M:\"+str(m)+\"人\")\n",
        "print(\"B:\"+str(b)+\"人\")"
      ],
      "execution_count": 9,
      "outputs": [
        {
          "output_type": "stream",
          "text": [
            "D:2人\n",
            "M:38人\n",
            "B:389人\n"
          ],
          "name": "stdout"
        }
      ]
    },
    {
      "cell_type": "code",
      "metadata": {
        "id": "kkyRjBhUZDkQ"
      },
      "source": [
        ""
      ],
      "execution_count": null,
      "outputs": []
    }
  ]
}