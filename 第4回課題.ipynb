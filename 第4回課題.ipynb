{
  "nbformat": 4,
  "nbformat_minor": 0,
  "metadata": {
    "anaconda-cloud": {},
    "kernelspec": {
      "display_name": "Python 3",
      "language": "python",
      "name": "python3"
    },
    "language_info": {
      "codemirror_mode": {
        "name": "ipython",
        "version": 3
      },
      "file_extension": ".py",
      "mimetype": "text/x-python",
      "name": "python",
      "nbconvert_exporter": "python",
      "pygments_lexer": "ipython3",
      "version": "3.8.5"
    },
    "colab": {
      "name": "第4回課題-checkpoint.ipynb",
      "provenance": []
    }
  },
  "cells": [
    {
      "cell_type": "markdown",
      "metadata": {
        "id": "O4b3FkvhtgjH"
      },
      "source": [
        "# 第4回課題\n",
        "内包表記，並列処理"
      ]
    },
    {
      "cell_type": "code",
      "metadata": {
        "id": "bZm1tTf8tgjK"
      },
      "source": [
        "#!pip install joblib"
      ],
      "execution_count": 27,
      "outputs": []
    },
    {
      "cell_type": "code",
      "metadata": {
        "id": "4VpTwI8HtgjM"
      },
      "source": [
        "from joblib import Parallel, delayed\n",
        "import numpy as np\n",
        "import pprint\n",
        "pp = pprint.PrettyPrinter(indent=4)"
      ],
      "execution_count": 28,
      "outputs": []
    },
    {
      "cell_type": "markdown",
      "metadata": {
        "id": "l5h-hz22tgjM"
      },
      "source": [
        "## 内包表記\n",
        "python における高速化テクの1つである内包表記の実装（for 文の削減）"
      ]
    },
    {
      "cell_type": "markdown",
      "metadata": {
        "id": "SjCZL-bGtgjO"
      },
      "source": [
        "### 課題3"
      ]
    },
    {
      "cell_type": "markdown",
      "metadata": {
        "id": "ck7h96YjtgjO"
      },
      "source": [
        "以下の for 文を内包表記に書き直しなさい．\n",
        "```[python]\n",
        "data = []\n",
        "for i in range(5):\n",
        "    for j in range(4):\n",
        "        data.append(i*j)\n",
        "data\n",
        "```\n",
        "出力：\n",
        "[0, 0, 0, 0, 0, 1, 2, 3, 0, 2, 4, 6, 0, 3, 6, 9, 0, 4, 8, 12]"
      ]
    },
    {
      "cell_type": "code",
      "metadata": {
        "id": "5AZ1q1AutgjP",
        "outputId": "e5e2fea7-55b8-4bea-abcf-487dcbce50b5",
        "colab": {
          "base_uri": "https://localhost:8080/"
        }
      },
      "source": [
        "data=[x*y for x in range(5)for y in range(4)]\n",
        "data"
      ],
      "execution_count": 20,
      "outputs": [
        {
          "output_type": "execute_result",
          "data": {
            "text/plain": [
              "[0, 0, 0, 0, 0, 1, 2, 3, 0, 2, 4, 6, 0, 3, 6, 9, 0, 4, 8, 12]"
            ]
          },
          "metadata": {
            "tags": []
          },
          "execution_count": 20
        }
      ]
    },
    {
      "cell_type": "markdown",
      "metadata": {
        "id": "ABr4-W9_tgjQ"
      },
      "source": [
        "### 課題2"
      ]
    },
    {
      "cell_type": "markdown",
      "metadata": {
        "id": "0f97LYwOtgjQ"
      },
      "source": [
        "以下の for 文を内包表記に書き直しなさい．\n",
        "```[python]\n",
        "data = []\n",
        "for i in range(5):\n",
        "    inner = []\n",
        "    for j in range(i, 6):\n",
        "        inner.append(i)\n",
        "    data.append(inner)\n",
        "data\n",
        "```\n",
        "出力：\n",
        "[[0, 0, 0, 0, 0, 0], [1, 1, 1, 1, 1], [2, 2, 2, 2], [3, 3, 3], [4, 4]]"
      ]
    },
    {
      "cell_type": "code",
      "metadata": {
        "id": "w32gNDIatgjR",
        "outputId": "2b30fe91-27a9-4268-e1b7-a1bccdef95bf",
        "colab": {
          "base_uri": "https://localhost:8080/"
        }
      },
      "source": [
        "data =[[i for j in range(i, 6)]for i in range(5)]\n",
        "data"
      ],
      "execution_count": 21,
      "outputs": [
        {
          "output_type": "execute_result",
          "data": {
            "text/plain": [
              "[[0, 0, 0, 0, 0, 0], [1, 1, 1, 1, 1], [2, 2, 2, 2], [3, 3, 3], [4, 4]]"
            ]
          },
          "metadata": {
            "tags": []
          },
          "execution_count": 21
        }
      ]
    },
    {
      "cell_type": "markdown",
      "metadata": {
        "id": "9Hom-h7LtgjR"
      },
      "source": [
        "## 並列処理\n",
        "python における高速化テクの1つである並列化の実装（複数コア，CPU の使用）\n",
        "\n",
        "joblib だけでなく multiprocessing もある"
      ]
    },
    {
      "cell_type": "markdown",
      "metadata": {
        "id": "tugGAcaKtgjS"
      },
      "source": [
        "### 例：2乗の場合"
      ]
    },
    {
      "cell_type": "code",
      "metadata": {
        "id": "P4kObuMdtgjS",
        "outputId": "5311b8eb-de71-4e2f-df8f-df05b36a72d4",
        "colab": {
          "base_uri": "https://localhost:8080/"
        }
      },
      "source": [
        "%%timeit 3 # 3回下記のコードを実行した時の時間を表示\n",
        "r = []\n",
        "for i in range(10000):\n",
        "    r.append(i ** 2)\n",
        "r[:3] + r[-3:]"
      ],
      "execution_count": 22,
      "outputs": [
        {
          "output_type": "stream",
          "text": [
            "100 loops, best of 5: 2.92 ms per loop\n"
          ],
          "name": "stdout"
        }
      ]
    },
    {
      "cell_type": "code",
      "metadata": {
        "collapsed": true,
        "id": "VeisOw5ftgjT"
      },
      "source": [
        "?Parallel"
      ],
      "execution_count": 29,
      "outputs": []
    },
    {
      "cell_type": "code",
      "metadata": {
        "id": "iI_8DdTetgjT",
        "outputId": "e2b5ef79-3655-457c-f23d-78b835b91c45",
        "colab": {
          "base_uri": "https://localhost:8080/"
        }
      },
      "source": [
        "%%timeit 3 \n",
        "power = lambda x: x**2\n",
        "r = Parallel(n_jobs=-1, verbose=0)([delayed(power)(i) for i in range(10000)])\n",
        "r[:3] + r[-3:]"
      ],
      "execution_count": 34,
      "outputs": [
        {
          "output_type": "stream",
          "text": [
            "1 loop, best of 5: 251 ms per loop\n"
          ],
          "name": "stdout"
        }
      ]
    },
    {
      "cell_type": "code",
      "metadata": {
        "id": "P1y4dZWmtgjT",
        "outputId": "c57f4c80-ea60-4f19-ba26-4c46bebddd30"
      },
      "source": [
        "power = lambda x: x**2\n",
        "r = Parallel(n_jobs=-1, verbose=3)( [delayed(power)(i) for i in range(10000)] )\n",
        "r[:3] + r[-3:]"
      ],
      "execution_count": null,
      "outputs": [
        {
          "output_type": "stream",
          "text": [
            "[Parallel(n_jobs=-1)]: Using backend LokyBackend with 8 concurrent workers.\n",
            "[Parallel(n_jobs=-1)]: Done  16 tasks      | elapsed:    0.0s\n",
            "[Parallel(n_jobs=-1)]: Done 2032 tasks      | elapsed:    0.0s\n",
            "[Parallel(n_jobs=-1)]: Done 10000 out of 10000 | elapsed:    0.2s finished\n"
          ],
          "name": "stderr"
        },
        {
          "output_type": "execute_result",
          "data": {
            "text/plain": [
              "[0, 1, 4, 99940009, 99960004, 99980001]"
            ]
          },
          "metadata": {
            "tags": []
          },
          "execution_count": 8
        }
      ]
    },
    {
      "cell_type": "code",
      "metadata": {
        "id": "P7KswyjktgjU",
        "outputId": "c4599d74-6a07-4f1b-b305-15650ddf706e",
        "colab": {
          "base_uri": "https://localhost:8080/"
        }
      },
      "source": [
        "%%timeit 3\n",
        "# numpy が最速というのはよくある\n",
        "np.arange(10000) ** 2"
      ],
      "execution_count": 31,
      "outputs": [
        {
          "output_type": "stream",
          "text": [
            "The slowest run took 381.62 times longer than the fastest. This could mean that an intermediate result is being cached.\n",
            "100000 loops, best of 5: 13.9 µs per loop\n"
          ],
          "name": "stdout"
        }
      ]
    },
    {
      "cell_type": "code",
      "metadata": {
        "id": "BAMK3iJitgjU",
        "outputId": "7e2c7786-88a0-45be-843e-afe50372c3da",
        "colab": {
          "base_uri": "https://localhost:8080/"
        }
      },
      "source": [
        "%%timeit 3\n",
        "np.fromiter(range(10000), dtype=np.int) ** 2"
      ],
      "execution_count": 32,
      "outputs": [
        {
          "output_type": "stream",
          "text": [
            "1000 loops, best of 5: 400 µs per loop\n"
          ],
          "name": "stdout"
        }
      ]
    },
    {
      "cell_type": "markdown",
      "metadata": {
        "id": "FqNOXDvftgjV"
      },
      "source": [
        "### 課題1"
      ]
    },
    {
      "cell_type": "markdown",
      "metadata": {
        "id": "x8FPWqoFtgjV"
      },
      "source": [
        "x = [(i, i+1) for i in range(100000)] としたとき，各 index 毎に積を求めよ\n",
        "\n",
        "出力 [0, 2, 6,（中略） 9999500006, 9999700002, 9999900000]"
      ]
    },
    {
      "cell_type": "code",
      "metadata": {
        "collapsed": true,
        "id": "cqOOcdFWtgjW",
        "outputId": "533d1f42-c4c5-4aa6-c3ec-8fa29c98f038",
        "colab": {
          "base_uri": "https://localhost:8080/"
        }
      },
      "source": [
        "seki = lambda x: x*(x+1)\n",
        "r = Parallel(n_jobs=-1, verbose=0)([delayed(seki)(i) for i in range(100000)])\n",
        "r[:3] + r[-3:]"
      ],
      "execution_count": 37,
      "outputs": [
        {
          "output_type": "execute_result",
          "data": {
            "text/plain": [
              "[0, 2, 6, 9999500006, 9999700002, 9999900000]"
            ]
          },
          "metadata": {
            "tags": []
          },
          "execution_count": 37
        }
      ]
    },
    {
      "cell_type": "markdown",
      "metadata": {
        "id": "mwbEplzUtgjW"
      },
      "source": [
        "### 発展課題\n",
        "C = np.cumsum(np.arange(1000)) の各項の差を求めよ\n",
        "\n",
        "出力[1, 2, 3,（中略） 997, 998, 999] = np.arange(1, 1000)"
      ]
    },
    {
      "cell_type": "code",
      "metadata": {
        "collapsed": true,
        "id": "Eh2kunAftgjW",
        "outputId": "400da1af-2770-4df3-b97f-acd0e0fadf21",
        "colab": {
          "base_uri": "https://localhost:8080/"
        }
      },
      "source": [
        "sa = lambda x,y: y-x\n",
        "r = Parallel(n_jobs=-1, verbose=0)([delayed(sa)(np.cumsum(np.arange(i))[i-1],np.cumsum(np.arange(i+1))[i]) for i in range(1,1000)])\n",
        "r[:3] + r[-3:]"
      ],
      "execution_count": 56,
      "outputs": [
        {
          "output_type": "execute_result",
          "data": {
            "text/plain": [
              "[1, 2, 3, 997, 998, 999]"
            ]
          },
          "metadata": {
            "tags": []
          },
          "execution_count": 56
        }
      ]
    },
    {
      "cell_type": "code",
      "metadata": {
        "id": "yCtruQUI38su"
      },
      "source": [
        ""
      ],
      "execution_count": null,
      "outputs": []
    }
  ]
}