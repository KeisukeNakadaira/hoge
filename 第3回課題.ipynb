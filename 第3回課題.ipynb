{
  "nbformat": 4,
  "nbformat_minor": 0,
  "metadata": {
    "anaconda-cloud": {},
    "kernelspec": {
      "display_name": "Python 3",
      "language": "python",
      "name": "python3"
    },
    "language_info": {
      "codemirror_mode": {
        "name": "ipython",
        "version": 3
      },
      "file_extension": ".py",
      "mimetype": "text/x-python",
      "name": "python",
      "nbconvert_exporter": "python",
      "pygments_lexer": "ipython3",
      "version": "3.8.5"
    },
    "colab": {
      "name": "第3回課題.ipynb",
      "provenance": []
    }
  },
  "cells": [
    {
      "cell_type": "markdown",
      "metadata": {
        "id": "KVq65zkbdrM3"
      },
      "source": [
        "# 第3回課題\n",
        "matplotlib\n",
        "\n",
        "今回は [pyplot](https://matplotlib.org/3.1.1/tutorials/introductory/pyplot.html#sphx-glr-tutorials-introductory-pyplot-py) の tutorial に従えば問題ないようになっています．\n",
        "\n",
        "他のライブラリとしては，seaborn が有名だと思います．"
      ]
    },
    {
      "cell_type": "code",
      "metadata": {
        "id": "cTbRGvNYdrM-"
      },
      "source": [
        "import matplotlib.pyplot as plt\n",
        "# plt.show の省略\n",
        "%matplotlib inline\n",
        "import numpy as np\n",
        "import pandas as pd"
      ],
      "execution_count": null,
      "outputs": []
    },
    {
      "cell_type": "code",
      "metadata": {
        "id": "B1RihJkidrM_"
      },
      "source": [
        "# 日本語化はフォントへの path を通せばいいのですが，今回は library の力を借りましょう\n",
        "#!pip install japanize_matplotlib"
      ],
      "execution_count": null,
      "outputs": []
    },
    {
      "cell_type": "code",
      "metadata": {
        "id": "AB8UsZ7IdrM_",
        "outputId": "f7513c39-090f-49d3-a57e-59a3c41eb0ba"
      },
      "source": [
        "# 既に日本語化できている場合は，コメントアウト\n",
        "import japanize_matplotlib # https://github.com/uehara1414/japanize-matplotlib\n",
        "'''\n",
        "# 中身\n",
        "import os\n",
        "import pathlib\n",
        "\n",
        "import matplotlib\n",
        "from matplotlib import font_manager\n",
        "\n",
        "FONTS_DIR = 'fonts'\n",
        "FONT_NAME = \"IPAexGothic\"\n",
        "\n",
        "font_dir_path = pathlib.Path(os.path.abspath(__file__)).parent / pathlib.Path(FONTS_DIR)\n",
        "font_dirs = [font_dir_path, ]\n",
        "font_files = font_manager.findSystemFonts(fontpaths=font_dirs)\n",
        "font_list = font_manager.createFontList(font_files)\n",
        "font_manager.fontManager.ttflist.extend(font_list)\n",
        "\n",
        "matplotlib.rc('font', family=FONT_NAME)\n",
        "'''"
      ],
      "execution_count": null,
      "outputs": [
        {
          "output_type": "execute_result",
          "data": {
            "text/plain": [
              "'\\n# 中身\\nimport os\\nimport pathlib\\n\\nimport matplotlib\\nfrom matplotlib import font_manager\\n\\nFONTS_DIR = \\'fonts\\'\\nFONT_NAME = \"IPAexGothic\"\\n\\nfont_dir_path = pathlib.Path(os.path.abspath(__file__)).parent / pathlib.Path(FONTS_DIR)\\nfont_dirs = [font_dir_path, ]\\nfont_files = font_manager.findSystemFonts(fontpaths=font_dirs)\\nfont_list = font_manager.createFontList(font_files)\\nfont_manager.fontManager.ttflist.extend(font_list)\\n\\nmatplotlib.rc(\\'font\\', family=FONT_NAME)\\n'"
            ]
          },
          "metadata": {
            "tags": []
          },
          "execution_count": 7
        }
      ]
    },
    {
      "cell_type": "code",
      "metadata": {
        "id": "l028MypodrNB",
        "outputId": "dd6b0b98-ef9e-4ce7-9042-44143ba17265"
      },
      "source": [
        "# iris dataset の読み込み（第2回課題のネタバレ）\n",
        "from sklearn.datasets import load_iris\n",
        "iris_data = load_iris() #del iris_data などで不要となった変数を消すことも可能\n",
        "data, label, feature_names = iris_data[\"data\"], iris_data[\"target\"], iris_data[\"feature_names\"]\n",
        "iris_df = pd.DataFrame(data, columns=feature_names)\n",
        "label = pd.DataFrame(label, columns=[\"label\"])\n",
        "iris_df = pd.concat([iris_df, label], axis=1)\n",
        "iris_df.head()"
      ],
      "execution_count": null,
      "outputs": [
        {
          "output_type": "execute_result",
          "data": {
            "text/html": [
              "<div>\n",
              "<table border=\"1\" class=\"dataframe\">\n",
              "  <thead>\n",
              "    <tr style=\"text-align: right;\">\n",
              "      <th></th>\n",
              "      <th>sepal length (cm)</th>\n",
              "      <th>sepal width (cm)</th>\n",
              "      <th>petal length (cm)</th>\n",
              "      <th>petal width (cm)</th>\n",
              "      <th>label</th>\n",
              "    </tr>\n",
              "  </thead>\n",
              "  <tbody>\n",
              "    <tr>\n",
              "      <th>0</th>\n",
              "      <td>5.1</td>\n",
              "      <td>3.5</td>\n",
              "      <td>1.4</td>\n",
              "      <td>0.2</td>\n",
              "      <td>0</td>\n",
              "    </tr>\n",
              "    <tr>\n",
              "      <th>1</th>\n",
              "      <td>4.9</td>\n",
              "      <td>3.0</td>\n",
              "      <td>1.4</td>\n",
              "      <td>0.2</td>\n",
              "      <td>0</td>\n",
              "    </tr>\n",
              "    <tr>\n",
              "      <th>2</th>\n",
              "      <td>4.7</td>\n",
              "      <td>3.2</td>\n",
              "      <td>1.3</td>\n",
              "      <td>0.2</td>\n",
              "      <td>0</td>\n",
              "    </tr>\n",
              "    <tr>\n",
              "      <th>3</th>\n",
              "      <td>4.6</td>\n",
              "      <td>3.1</td>\n",
              "      <td>1.5</td>\n",
              "      <td>0.2</td>\n",
              "      <td>0</td>\n",
              "    </tr>\n",
              "    <tr>\n",
              "      <th>4</th>\n",
              "      <td>5.0</td>\n",
              "      <td>3.6</td>\n",
              "      <td>1.4</td>\n",
              "      <td>0.2</td>\n",
              "      <td>0</td>\n",
              "    </tr>\n",
              "  </tbody>\n",
              "</table>\n",
              "</div>"
            ],
            "text/plain": [
              "   sepal length (cm)  sepal width (cm)  petal length (cm)  petal width (cm)  \\\n",
              "0                5.1               3.5                1.4               0.2   \n",
              "1                4.9               3.0                1.4               0.2   \n",
              "2                4.7               3.2                1.3               0.2   \n",
              "3                4.6               3.1                1.5               0.2   \n",
              "4                5.0               3.6                1.4               0.2   \n",
              "\n",
              "   label  \n",
              "0      0  \n",
              "1      0  \n",
              "2      0  \n",
              "3      0  \n",
              "4      0  "
            ]
          },
          "metadata": {
            "tags": []
          },
          "execution_count": 8
        }
      ]
    },
    {
      "cell_type": "markdown",
      "metadata": {
        "id": "FZAY-MdwdrNC"
      },
      "source": [
        "## hist"
      ]
    },
    {
      "cell_type": "markdown",
      "metadata": {
        "id": "UZGTj44MdrNC"
      },
      "source": [
        "### 課題1\n",
        "\n",
        "1.   リスト項目\n",
        "\n",
        "1.   リスト項目\n",
        "2.   リスト項目\n",
        "\n",
        "\n",
        "2.   リスト項目\n",
        "\n",
        "\n",
        "sepal length (cm) について，histogram を作る（bins をいじるなどしてよい）．\n",
        "```\n",
        "plt.hist\n",
        "```"
      ]
    },
    {
      "cell_type": "code",
      "metadata": {
        "collapsed": true,
        "id": "aEJzjo4fdrND",
        "outputId": "e3e81d5b-6ebd-426b-c471-3b2aa13ef88f",
        "colab": {
          "base_uri": "https://localhost:8080/",
          "height": 346
        }
      },
      "source": [
        "import matplotlib.pyplot as plt\n",
        "# plt.show の省略\n",
        "%matplotlib inline\n",
        "import numpy as np\n",
        "import pandas as pd\n",
        "#!pip install japanize_matplotlib\n",
        "#===================================================================\n",
        "# iris dataset の読み込み（第2回課題のネタバレ）\n",
        "from sklearn.datasets import load_iris\n",
        "iris_data = load_iris() #del iris_data などで不要となった変数を消すことも可能\n",
        "data, label, feature_names = iris_data[\"data\"], iris_data[\"target\"], iris_data[\"feature_names\"]\n",
        "iris_df = pd.DataFrame(data, columns=feature_names)\n",
        "label = pd.DataFrame(label, columns=[\"label\"])\n",
        "iris_df = pd.concat([iris_df, label], axis=1)\n",
        "#==================================================================\n",
        "plt.hist(data[:,0],bins=20)"
      ],
      "execution_count": 5,
      "outputs": [
        {
          "output_type": "execute_result",
          "data": {
            "text/plain": [
              "(array([ 4.,  5.,  7., 16.,  9.,  5., 13., 14., 10.,  6., 10., 16.,  7.,\n",
              "        11.,  4.,  2.,  4.,  1.,  5.,  1.]),\n",
              " array([4.3 , 4.48, 4.66, 4.84, 5.02, 5.2 , 5.38, 5.56, 5.74, 5.92, 6.1 ,\n",
              "        6.28, 6.46, 6.64, 6.82, 7.  , 7.18, 7.36, 7.54, 7.72, 7.9 ]),\n",
              " <a list of 20 Patch objects>)"
            ]
          },
          "metadata": {
            "tags": []
          },
          "execution_count": 5
        },
        {
          "output_type": "display_data",
          "data": {
            "image/png": "[encoded data removed]",
            "text/plain": [
              "<Figure size 432x288 with 1 Axes>"
            ]
          },
          "metadata": {
            "tags": [],
            "needs_background": "light"
          }
        }
      ]
    },
    {
      "cell_type": "markdown",
      "metadata": {
        "id": "mOGAJVBndrND"
      },
      "source": [
        "### 課題2\n",
        "課題1の graph に label を付け，判例を付与．さらに，title を fontsize 18 で追加（できれば xlabel, ylabel もやってほしいが）．\n",
        "```\n",
        "#plt.figure\n",
        "plt.hist\n",
        "#plt.xlabel\n",
        "#plt.ylabel\n",
        "plt.title\n",
        "plt.legend\n",
        "```"
      ]
    },
    {
      "cell_type": "code",
      "metadata": {
        "collapsed": true,
        "id": "l8BS7gZTdrND",
        "outputId": "a65007a0-792f-450b-81a3-1fc08a8c5d2f",
        "colab": {
          "base_uri": "https://localhost:8080/",
          "height": 315
        }
      },
      "source": [
        "\n",
        "plt.title(\"sepal length histglam\",fontsize=18)\n",
        "plt.hist(data[:,0],bins=20,label=\"sepal_length\")\n",
        "plt.xlabel(\"cm\")\n",
        "plt.ylabel(\"count\")\n",
        "plt.legend()"
      ],
      "execution_count": 23,
      "outputs": [
        {
          "output_type": "execute_result",
          "data": {
            "text/plain": [
              "<matplotlib.legend.Legend at 0x7f65ea0baf50>"
            ]
          },
          "metadata": {
            "tags": []
          },
          "execution_count": 23
        },
        {
          "output_type": "display_data",
          "data": {
            "image/png": "[encoded data removed]",
            "text/plain": [
              "<Figure size 432x288 with 1 Axes>"
            ]
          },
          "metadata": {
            "tags": [],
            "needs_background": "light"
          }
        }
      ]
    },
    {
      "cell_type": "markdown",
      "metadata": {
        "id": "TE88AlyRdrNE"
      },
      "source": [
        "### 発展課題１\n",
        "fontsize を backend([rcParams](https://matplotlib.org/3.2.1/api/matplotlib_configuration_api.html#matplotlib.RcParams))で設定\n",
        "```\n",
        "plt.rcParams\n",
        "#plt.figure\n",
        "plt.hist\n",
        "#plt.xlabel\n",
        "#plt.ylabel\n",
        "plt.title\n",
        "plt.legend\n",
        "```"
      ]
    },
    {
      "cell_type": "code",
      "metadata": {
        "collapsed": true,
        "id": "_C-goJL8drNE",
        "outputId": "dee50e16-2690-4bfc-e3a0-4414958a1daf",
        "colab": {
          "base_uri": "https://localhost:8080/",
          "height": 495
        }
      },
      "source": [
        "plt.rcParams[\"font.size\"] = 18\n",
        "plt.title(\"sepal length histglam\")\n",
        "plt.hist(data[:,0],bins=20,label=\"sepal_length\")\n",
        "plt.xlabel(\"cm\")\n",
        "plt.ylabel(\"count\")\n",
        "plt.legend()"
      ],
      "execution_count": 28,
      "outputs": [
        {
          "output_type": "error",
          "ename": "AttributeError",
          "evalue": "ignored",
          "traceback": [
            "\u001b[0;31m---------------------------------------------------------------------------\u001b[0m",
            "\u001b[0;31mAttributeError\u001b[0m                            Traceback (most recent call last)",
            "\u001b[0;32m<ipython-input-28-183f5ac0c8f9>\u001b[0m in \u001b[0;36m<module>\u001b[0;34m()\u001b[0m\n\u001b[1;32m      5\u001b[0m \u001b[0mplt\u001b[0m\u001b[0;34m.\u001b[0m\u001b[0mylabel\u001b[0m\u001b[0;34m(\u001b[0m\u001b[0;34m\"count\"\u001b[0m\u001b[0;34m)\u001b[0m\u001b[0;34m\u001b[0m\u001b[0;34m\u001b[0m\u001b[0m\n\u001b[1;32m      6\u001b[0m \u001b[0mplt\u001b[0m\u001b[0;34m.\u001b[0m\u001b[0mlegend\u001b[0m\u001b[0;34m(\u001b[0m\u001b[0;34m)\u001b[0m\u001b[0;34m\u001b[0m\u001b[0;34m\u001b[0m\u001b[0m\n\u001b[0;32m----> 7\u001b[0;31m \u001b[0mplt\u001b[0m\u001b[0;34m.\u001b[0m\u001b[0madd_subplot\u001b[0m\u001b[0;34m(\u001b[0m\u001b[0;36m1\u001b[0m\u001b[0;34m,\u001b[0m \u001b[0;36m2\u001b[0m\u001b[0;34m,\u001b[0m \u001b[0;36m1\u001b[0m\u001b[0;34m)\u001b[0m\u001b[0;34m\u001b[0m\u001b[0;34m\u001b[0m\u001b[0m\n\u001b[0m",
            "\u001b[0;31mAttributeError\u001b[0m: module 'matplotlib.pyplot' has no attribute 'add_subplot'"
          ]
        },
        {
          "output_type": "display_data",
          "data": {
            "image/png": "[encoded data removed]",
            "text/plain": [
              "<Figure size 432x288 with 1 Axes>"
            ]
          },
          "metadata": {
            "tags": [],
            "needs_background": "light"
          }
        }
      ]
    },
    {
      "cell_type": "markdown",
      "metadata": {
        "id": "Vvj3fGjEdrNE"
      },
      "source": [
        "### 発展課題2\n",
        "1行2列で可視化しよう（subplot の使用）\n",
        "```\n",
        "plt.rcParams\n",
        "#plt.figure\n",
        "plt.hist\n",
        "#plt.xlabel\n",
        "#plt.ylabel\n",
        "plt.title\n",
        "plt.legend\n",
        "```"
      ]
    },
    {
      "cell_type": "code",
      "metadata": {
        "collapsed": true,
        "id": "mZBATevCdrNE",
        "outputId": "c6d92715-f97f-4f52-f90e-6100e05b4cae",
        "colab": {
          "base_uri": "https://localhost:8080/",
          "height": 307
        }
      },
      "source": [
        "plt.rcParams[\"font.size\"] = 9\n",
        "fig=plt.figure()\n",
        "ax1=fig.add_subplot(1,2,1)\n",
        "plt.title(\"sepal length histglam\",fontsize=10)\n",
        "plt.hist(data[:,0],label=\"sepal_length\")\n",
        "plt.xlabel(\"cm\")\n",
        "plt.ylabel(\"count\")\n",
        "plt.legend()\n",
        "ax2=fig.add_subplot(1,2,2)\n",
        "plt.title(\"sepal width histglam\",fontsize=10)\n",
        "plt.hist(data[:,1],label=\"sepal_width\")\n",
        "plt.xlabel(\"cm\")\n",
        "plt.ylabel(\"count\")\n",
        "plt.legend()"
      ],
      "execution_count": 42,
      "outputs": [
        {
          "output_type": "execute_result",
          "data": {
            "text/plain": [
              "<matplotlib.legend.Legend at 0x7f65e9480150>"
            ]
          },
          "metadata": {
            "tags": []
          },
          "execution_count": 42
        },
        {
          "output_type": "display_data",
          "data": {
            "image/png": "[encoded data removed]",
            "text/plain": [
              "<Figure size 432x288 with 2 Axes>"
            ]
          },
          "metadata": {
            "tags": [],
            "needs_background": "light"
          }
        }
      ]
    },
    {
      "cell_type": "markdown",
      "metadata": {
        "id": "_LrXYrLLdrNF"
      },
      "source": [
        "## scatter"
      ]
    },
    {
      "cell_type": "markdown",
      "metadata": {
        "id": "yR1vETo0drNF"
      },
      "source": [
        "### 課題3\n",
        "scatter を用いて，横を sepal width，縦を sepal length とする点を表示\n",
        "```\n",
        "plt.scatter\n",
        "```"
      ]
    },
    {
      "cell_type": "code",
      "metadata": {
        "collapsed": true,
        "id": "LKjpKpZBdrNG",
        "outputId": "0bf8a0ba-6c40-46f2-d31e-6eaa571febb5",
        "colab": {
          "base_uri": "https://localhost:8080/",
          "height": 282
        }
      },
      "source": [
        "plt.scatter(data[:,1],data[:,0])"
      ],
      "execution_count": 43,
      "outputs": [
        {
          "output_type": "execute_result",
          "data": {
            "text/plain": [
              "<matplotlib.collections.PathCollection at 0x7f65e942e8d0>"
            ]
          },
          "metadata": {
            "tags": []
          },
          "execution_count": 43
        },
        {
          "output_type": "display_data",
          "data": {
            "image/png": "[encoded data removed]",
            "text/plain": [
              "<Figure size 432x288 with 1 Axes>"
            ]
          },
          "metadata": {
            "tags": [],
            "needs_background": "light"
          }
        }
      ]
    },
    {
      "cell_type": "markdown",
      "metadata": {
        "id": "3bLK9SgodrNG"
      },
      "source": [
        "### 課題4\n",
        "課題3の図に，横を petal width，縦を petal length とする緑色の点を追加で表示\n",
        "```\n",
        "plt.scatter\n",
        "plt.scatter\n",
        "```"
      ]
    },
    {
      "cell_type": "code",
      "metadata": {
        "collapsed": true,
        "id": "Oqaw99FodrNH",
        "outputId": "15154d15-2f2e-442f-f273-c306ddd11d7c",
        "colab": {
          "base_uri": "https://localhost:8080/",
          "height": 280
        }
      },
      "source": [
        "plt.scatter(data[:,1],data[:,0])\n",
        "plt.scatter(data[:,3],data[:,2],c=\"g\")"
      ],
      "execution_count": 46,
      "outputs": [
        {
          "output_type": "execute_result",
          "data": {
            "text/plain": [
              "<matplotlib.collections.PathCollection at 0x7f65e928db90>"
            ]
          },
          "metadata": {
            "tags": []
          },
          "execution_count": 46
        },
        {
          "output_type": "display_data",
          "data": {
            "image/png": "[encoded data removed]",
            "text/plain": [
              "<Figure size 432x288 with 1 Axes>"
            ]
          },
          "metadata": {
            "tags": [],
            "needs_background": "light"
          }
        }
      ]
    },
    {
      "cell_type": "markdown",
      "metadata": {
        "id": "eecimtbAdrNH"
      },
      "source": [
        "## plot\n",
        "`y = x**2` の直線を plot\n",
        "\n",
        "```[python]\n",
        "x = np.linspace(0, 100, 10**5)\n",
        "plt.\n",
        "```"
      ]
    },
    {
      "cell_type": "code",
      "metadata": {
        "collapsed": true,
        "id": "-HlIZyGGdrNH",
        "outputId": "078f71bf-3d5f-4b3f-d144-f5842044359f",
        "colab": {
          "base_uri": "https://localhost:8080/",
          "height": 280
        }
      },
      "source": [
        "x = np.linspace(0, 100, 10**5)\n",
        "plt.plot(x,x**2)"
      ],
      "execution_count": 48,
      "outputs": [
        {
          "output_type": "execute_result",
          "data": {
            "text/plain": [
              "[<matplotlib.lines.Line2D at 0x7f65e9259350>]"
            ]
          },
          "metadata": {
            "tags": []
          },
          "execution_count": 48
        },
        {
          "output_type": "display_data",
          "data": {
            "image/png": "[encoded data removed]",
            "text/plain": [
              "<Figure size 432x288 with 1 Axes>"
            ]
          },
          "metadata": {
            "tags": [],
            "needs_background": "light"
          }
        }
      ]
    },
    {
      "cell_type": "code",
      "metadata": {
        "id": "HDNVvGy0wTdo"
      },
      "source": [
        ""
      ],
      "execution_count": null,
      "outputs": []
    }
  ]
}